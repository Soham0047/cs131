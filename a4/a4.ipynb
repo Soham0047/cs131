{
 "cells": [
  {
   "cell_type": "code",
   "execution_count": 16,
   "id": "a2ec4e03-b0bd-4772-b728-37b82bc9aedb",
   "metadata": {
    "tags": []
   },
   "outputs": [
    {
     "name": "stderr",
     "output_type": "stream",
     "text": [
      "25/04/28 03:28:01 WARN SparkSession: Using an existing Spark session; only runtime SQL configurations will take effect.\n"
     ]
    }
   ],
   "source": [
    "from pyspark.sql import SparkSession\n",
    "from pyspark.ml.feature import VectorAssembler\n",
    "from pyspark.ml.regression import DecisionTreeRegressor\n",
    "from pyspark.ml import Pipeline\n",
    "from pyspark.ml.evaluation import RegressionEvaluator\n",
    "\n",
    "# Create SparkSession\n",
    "spark = SparkSession.builder \\\n",
    "    .appName(\"TotalAmountPrediction\") \\\n",
    "    .getOrCreate()"
   ]
  },
  {
   "cell_type": "code",
   "execution_count": 22,
   "id": "e7eace0c-5feb-49c3-a963-d4669feec236",
   "metadata": {
    "tags": []
   },
   "outputs": [
    {
     "name": "stderr",
     "output_type": "stream",
     "text": [
      "                                                                                \r"
     ]
    },
    {
     "name": "stdout",
     "output_type": "stream",
     "text": [
      "+---------------+------------+------------+------------+\n",
      "|passenger_count|pulocationid|dolocationid|total_amount|\n",
      "+---------------+------------+------------+------------+\n",
      "|            1.0|       151.0|       239.0|        9.95|\n",
      "|            1.0|       239.0|       246.0|        16.3|\n",
      "|            3.0|       236.0|       236.0|         5.8|\n",
      "|            5.0|       193.0|       193.0|        7.55|\n",
      "|            5.0|       193.0|       193.0|       55.55|\n",
      "|            5.0|       193.0|       193.0|       13.31|\n",
      "|            5.0|       193.0|       193.0|       55.55|\n",
      "|            1.0|       163.0|       229.0|        9.05|\n",
      "|            1.0|       229.0|         7.0|        18.5|\n",
      "|            2.0|       141.0|       234.0|        13.0|\n",
      "+---------------+------------+------------+------------+\n",
      "only showing top 10 rows\n",
      "\n"
     ]
    }
   ],
   "source": [
    "input_path = \"hdfs:///user/soham_bhowmick/cs131/a4/2019-01-h1.csv\"\n",
    "\n",
    "rawDF = spark.read.csv(input_path, header=True, inferSchema=True)\n",
    "\n",
    "# Select only passenger_count, PULocationID, DOLocationID, total_amount\n",
    "dataDF = rawDF.select(\n",
    "    rawDF.passenger_count,\n",
    "    rawDF.pulocationid,\n",
    "    rawDF.dolocationid,\n",
    "    rawDF.total_amount\n",
    ")\n",
    "\n",
    "dataDF.show(10)"
   ]
  },
  {
   "cell_type": "code",
   "execution_count": 23,
   "id": "a54df5a5-1842-489c-ba29-b2d103f0de79",
   "metadata": {
    "tags": []
   },
   "outputs": [],
   "source": [
    "from pyspark.ml.feature import VectorAssembler\n",
    "from pyspark.ml.regression import DecisionTreeRegressor\n",
    "from pyspark.ml import Pipeline\n",
    "from pyspark.ml.evaluation import RegressionEvaluator"
   ]
  },
  {
   "cell_type": "code",
   "execution_count": 24,
   "id": "709bf428-9adf-41a1-a22a-8b9072f714f2",
   "metadata": {
    "tags": []
   },
   "outputs": [],
   "source": [
    "trainDF, testDF = dataDF.randomSplit([0.8, 0.2], seed=42)"
   ]
  },
  {
   "cell_type": "code",
   "execution_count": 25,
   "id": "09fa14b6-58cf-402e-aa14-37fe48b6fe30",
   "metadata": {
    "tags": []
   },
   "outputs": [
    {
     "name": "stderr",
     "output_type": "stream",
     "text": [
      "                                                                                \r"
     ]
    },
    {
     "name": "stdout",
     "output_type": "stream",
     "text": [
      "Training set count: 2920930\n"
     ]
    },
    {
     "name": "stderr",
     "output_type": "stream",
     "text": [
      "[Stage 17:===========================================>              (3 + 1) / 4]\r"
     ]
    },
    {
     "name": "stdout",
     "output_type": "stream",
     "text": [
      "Test set count:     730150\n"
     ]
    },
    {
     "name": "stderr",
     "output_type": "stream",
     "text": [
      "                                                                                \r"
     ]
    }
   ],
   "source": [
    "print(f\"Training set count: {trainDF.count()}\")\n",
    "print(f\"Test set count:     {testDF.count()}\")"
   ]
  },
  {
   "cell_type": "code",
   "execution_count": 26,
   "id": "f10c84a1-227d-4394-a90a-8ae0fe385a58",
   "metadata": {
    "tags": []
   },
   "outputs": [],
   "source": [
    "assembler = VectorAssembler(\n",
    "    inputCols=[\"passenger_count\", \"pulocationid\", \"dolocationid\"],\n",
    "    outputCol=\"features\"\n",
    ")\n",
    "\n",
    "dt = DecisionTreeRegressor(\n",
    "    featuresCol=\"features\",\n",
    "    labelCol=\"total_amount\"\n",
    ").setMaxBins(200)\n",
    "\n",
    "pipeline = Pipeline(stages=[assembler, dt])"
   ]
  },
  {
   "cell_type": "code",
   "execution_count": 27,
   "id": "0237a1d1-e8cc-44da-b4d3-0d483db6cbf2",
   "metadata": {
    "tags": []
   },
   "outputs": [
    {
     "name": "stderr",
     "output_type": "stream",
     "text": [
      "                                                                                \r"
     ]
    }
   ],
   "source": [
    "model = pipeline.fit(trainDF)"
   ]
  },
  {
   "cell_type": "code",
   "execution_count": 28,
   "id": "fe17222a-618f-405a-ab9d-27d5adc010ec",
   "metadata": {
    "tags": []
   },
   "outputs": [
    {
     "name": "stderr",
     "output_type": "stream",
     "text": [
      "[Stage 34:>                                                         (0 + 1) / 1]\r"
     ]
    },
    {
     "name": "stdout",
     "output_type": "stream",
     "text": [
      "+---------------+------------+------------+------------+-----------------+\n",
      "|passenger_count|pulocationid|dolocationid|total_amount|       prediction|\n",
      "+---------------+------------+------------+------------+-----------------+\n",
      "|            0.0|         4.0|         4.0|         4.3|17.63754719264326|\n",
      "|            0.0|         4.0|        33.0|       17.75|17.63754719264326|\n",
      "|            0.0|         4.0|        68.0|        15.8|17.63754719264326|\n",
      "|            0.0|         4.0|        79.0|        9.75|17.63754719264326|\n",
      "|            0.0|         4.0|       125.0|         9.3|17.63754719264326|\n",
      "|            0.0|         4.0|       170.0|       11.15|17.63754719264326|\n",
      "|            0.0|         7.0|         7.0|        0.31|17.63754719264326|\n",
      "|            0.0|         7.0|         7.0|         6.3|17.63754719264326|\n",
      "|            0.0|         7.0|       112.0|        16.8|17.63754719264326|\n",
      "|            0.0|         7.0|       138.0|        10.8|17.63754719264326|\n",
      "+---------------+------------+------------+------------+-----------------+\n",
      "only showing top 10 rows\n",
      "\n"
     ]
    },
    {
     "name": "stderr",
     "output_type": "stream",
     "text": [
      "                                                                                \r"
     ]
    }
   ],
   "source": [
    "predictions = model.transform(testDF)\n",
    "\n",
    "predictions.select(\n",
    "    \"passenger_count\",\n",
    "    \"pulocationid\",\n",
    "    \"dolocationid\",\n",
    "    \"total_amount\",\n",
    "    \"prediction\"\n",
    ").show(10)"
   ]
  },
  {
   "cell_type": "code",
   "execution_count": 29,
   "id": "8c3cb399-837c-48fd-a2f1-56e5f2c0f554",
   "metadata": {
    "tags": []
   },
   "outputs": [
    {
     "name": "stderr",
     "output_type": "stream",
     "text": [
      "[Stage 35:=============================>                            (2 + 2) / 4]\r"
     ]
    },
    {
     "name": "stdout",
     "output_type": "stream",
     "text": [
      "Root Mean Square Error (RMSE) on test data = 24.6682\n"
     ]
    },
    {
     "name": "stderr",
     "output_type": "stream",
     "text": [
      "                                                                                \r"
     ]
    }
   ],
   "source": [
    "evaluator = RegressionEvaluator(\n",
    "    labelCol=\"total_amount\",\n",
    "    predictionCol=\"prediction\",\n",
    "    metricName=\"rmse\"\n",
    ")\n",
    "\n",
    "rmse = evaluator.evaluate(predictions)\n",
    "print(f\"Root Mean Square Error (RMSE) on test data = {rmse:.4f}\")"
   ]
  },
  {
   "cell_type": "code",
   "execution_count": null,
   "id": "dd42a177-8ef5-488f-8afb-1ecfbba7fea2",
   "metadata": {},
   "outputs": [],
   "source": []
  }
 ],
 "metadata": {
  "kernelspec": {
   "display_name": "PySpark",
   "language": "python",
   "name": "pyspark"
  },
  "language_info": {
   "codemirror_mode": {
    "name": "ipython",
    "version": 3
   },
   "file_extension": ".py",
   "mimetype": "text/x-python",
   "name": "python",
   "nbconvert_exporter": "python",
   "pygments_lexer": "ipython3",
   "version": "3.11.8"
  }
 },
 "nbformat": 4,
 "nbformat_minor": 5
}
